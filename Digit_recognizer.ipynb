{
 "cells": [
  {
   "cell_type": "markdown",
   "metadata": {},
   "source": [
    "**Applying deep learning models on the digit recognizer dataset**\n",
    "\n",
    "In this project, I apply various deep learning models on the famous __[MNIST digit recognizer dataset](https://www.kaggle.com/c/digit-recognizer)__."
   ]
  },
  {
   "cell_type": "code",
   "execution_count": 1,
   "metadata": {},
   "outputs": [
    {
     "name": "stderr",
     "output_type": "stream",
     "text": [
      "Using TensorFlow backend.\n",
      "/usr/local/Cellar/python/3.7.0/Frameworks/Python.framework/Versions/3.7/lib/python3.7/importlib/_bootstrap.py:219: RuntimeWarning: compiletime version 3.6 of module 'tensorflow.python.framework.fast_tensor_util' does not match runtime version 3.7\n",
      "  return f(*args, **kwds)\n"
     ]
    }
   ],
   "source": [
    "# Import packages\n",
    "import pandas as pd\n",
    "import numpy as np\n",
    "from matplotlib import pyplot as plt\n",
    "import seaborn as sns\n",
    "%matplotlib inline\n",
    "\n",
    "from sklearn.model_selection import train_test_split\n",
    "\n",
    "import keras\n",
    "from keras.utils import to_categorical\n",
    "from keras.models import Sequential, Model\n",
    "from keras.layers import Conv2D, MaxPooling2D, Dense, Flatten \n",
    "from keras.optimizers import RMSprop, Adam, SGD\n",
    "from keras import metrics"
   ]
  },
  {
   "cell_type": "code",
   "execution_count": 2,
   "metadata": {},
   "outputs": [],
   "source": [
    "# Import data\n",
    "train = pd.read_csv('~/Desktop/Kaggle/data/digits/train.csv')\n",
    "test = pd.read_csv('~/Desktop/Kaggle/data/digits/test.csv')\n",
    "\n",
    "y_train = train['label']\n",
    "X_train = train.loc[:, train.columns != 'label']"
   ]
  },
  {
   "cell_type": "code",
   "execution_count": 3,
   "metadata": {},
   "outputs": [
    {
     "name": "stdout",
     "output_type": "stream",
     "text": [
      "Number of train samples:  42000\n",
      "Number of classes:  10\n"
     ]
    }
   ],
   "source": [
    "# Samples info\n",
    "print('Number of train samples: ',X_train.shape[0])\n",
    "print('Number of classes: ', len(np.unique(y_train)))"
   ]
  },
  {
   "cell_type": "code",
   "execution_count": 4,
   "metadata": {},
   "outputs": [
    {
     "data": {
      "image/png": "[encoded data removed]",
      "text/plain": [
       "<Figure size 432x288 with 1 Axes>"
      ]
     },
     "metadata": {},
     "output_type": "display_data"
    }
   ],
   "source": [
    "# Plot class counts\n",
    "sns.countplot(y_train)\n",
    "plt.xlabel ('Class labels')\n",
    "plt.show()"
   ]
  },
  {
   "cell_type": "code",
   "execution_count": 5,
   "metadata": {},
   "outputs": [],
   "source": [
    "# Train-test split\n",
    "x_train, x_val, y_train, y_val = train_test_split(X_train, y_train, test_size=0.10, random_state=321)"
   ]
  },
  {
   "cell_type": "code",
   "execution_count": 6,
   "metadata": {},
   "outputs": [],
   "source": [
    "# Reshape\n",
    "x_train = x_train.values.reshape(x_train.shape[0], 28, 28,1)\n",
    "x_val = x_val.values.reshape(x_val.shape[0], 28, 28, 1)"
   ]
  },
  {
   "cell_type": "code",
   "execution_count": 7,
   "metadata": {},
   "outputs": [
    {
     "name": "stdout",
     "output_type": "stream",
     "text": [
      "37800 train digit images\n",
      "4200 validation digit images\n"
     ]
    }
   ],
   "source": [
    "# Scale \n",
    "x_train = x_train / 255\n",
    "x_val = x_val / 255\n",
    "\n",
    "# Save as float32\n",
    "x_train = x_train.astype('float32')\n",
    "x_val = x_val.astype('float32')\n",
    "\n",
    "# Sample shapes\n",
    "print(x_train.shape[0], 'train digit images')\n",
    "print(x_val.shape[0], 'validation digit images')"
   ]
  },
  {
   "cell_type": "code",
   "execution_count": 8,
   "metadata": {},
   "outputs": [],
   "source": [
    "# Convert y_train, y_val to categorical\n",
    "y_train = to_categorical(y_train, num_classes = 10)\n",
    "y_val = to_categorical(y_val, num_classes = 10)"
   ]
  },
  {
   "cell_type": "code",
   "execution_count": 9,
   "metadata": {},
   "outputs": [],
   "source": [
    "# Build a model\n",
    "model = Sequential()\n",
    "\n",
    "# Add the first convolution layer\n",
    "model.add(Conv2D(32, kernel_size=(3, 3), strides=(1, 1), activation='relu', input_shape=(28,28,1)))\n",
    "\n",
    "# Add the first pooling layer\n",
    "model.add(MaxPooling2D(pool_size=(2, 2), strides=(2, 2)))\n",
    "\n",
    "# Add the second convolution layer\n",
    "model.add(Conv2D(64, (3, 3), activation='relu'))\n",
    "\n",
    "# Add the second pooling layer\n",
    "model.add(MaxPooling2D(pool_size=(2, 2)))\n",
    "\n",
    "# Flatten the matrix into vector\n",
    "model.add(Flatten())\n",
    "\n",
    "# Add a dense (or fully connected) layer\n",
    "model.add(Dense(1000, activation='relu'))\n",
    "\n",
    "# Add output layer\n",
    "model.add(Dense(10, activation='softmax'))"
   ]
  },
  {
   "cell_type": "code",
   "execution_count": 10,
   "metadata": {},
   "outputs": [
    {
     "name": "stdout",
     "output_type": "stream",
     "text": [
      "_________________________________________________________________\n",
      "Layer (type)                 Output Shape              Param #   \n",
      "=================================================================\n",
      "conv2d_1 (Conv2D)            (None, 26, 26, 32)        320       \n",
      "_________________________________________________________________\n",
      "max_pooling2d_1 (MaxPooling2 (None, 13, 13, 32)        0         \n",
      "_________________________________________________________________\n",
      "conv2d_2 (Conv2D)            (None, 11, 11, 64)        18496     \n",
      "_________________________________________________________________\n",
      "max_pooling2d_2 (MaxPooling2 (None, 5, 5, 64)          0         \n",
      "_________________________________________________________________\n",
      "flatten_1 (Flatten)          (None, 1600)              0         \n",
      "_________________________________________________________________\n",
      "dense_1 (Dense)              (None, 1000)              1601000   \n",
      "_________________________________________________________________\n",
      "dense_2 (Dense)              (None, 10)                10010     \n",
      "=================================================================\n",
      "Total params: 1,629,826\n",
      "Trainable params: 1,629,826\n",
      "Non-trainable params: 0\n",
      "_________________________________________________________________\n"
     ]
    }
   ],
   "source": [
    "# Summarize the model\n",
    "model.summary()"
   ]
  },
  {
   "cell_type": "code",
   "execution_count": 11,
   "metadata": {},
   "outputs": [],
   "source": [
    "# Define early stopping callback\n",
    "early_stopping = keras.callbacks.EarlyStopping(monitor='loss', min_delta=0, patience=10, verbose=0, mode='auto')\n",
    "reduce_lr = keras.callbacks.ReduceLROnPlateau(monitor='val_loss', factor=0.2, patience=10, min_lr=0.0001)"
   ]
  },
  {
   "cell_type": "code",
   "execution_count": 12,
   "metadata": {},
   "outputs": [],
   "source": [
    "def fit_evaluate_cnn(BatchSize):\n",
    "    model_history=model.fit(x_train,y_train, epochs=10, batch_size=BatchSize, validation_data=(x_val,y_val),\n",
    "                            verbose=1, callbacks=[early_stopping, reduce_lr])\n",
    "    #Plot accuracy\n",
    "    sns.set(style=\"darkgrid\")\n",
    "    fig = plt.figure(figsize=(7,6))\n",
    "    plt.plot(model_history.history['acc']) # Train accuracy\n",
    "    plt.plot(model_history.history['val_acc']) # Validation accuracy\n",
    "    plt.title('Model accuracy across epochs')\n",
    "    plt.ylabel('Accuracy')\n",
    "    plt.xlabel('Epoch')\n",
    "    plt.ylim(0.90,1 )\n",
    "    plt.xlim(0, 10)\n",
    "    plt.legend(['Train', 'Validation'], loc='best')\n",
    "    plt.show()\n",
    "    \n",
    "    # Plot loss\n",
    "    sns.set(style=\"darkgrid\")\n",
    "    fig = plt.figure(figsize=(7,6))\n",
    "    plt.plot(model_history.history['loss']) # Train loss \n",
    "    plt.plot(model_history.history['val_loss']) # Validation loss\n",
    "    plt.title('Model loss across epochs')\n",
    "    plt.ylabel('Loss')\n",
    "    plt.xlabel('Epoch')\n",
    "    plt.ylim(0.02, 0.3)\n",
    "    plt.xlim(0, 10)\n",
    "    plt.legend(['Train', 'Validation'], loc='best')\n",
    "    plt.show()"
   ]
  },
  {
   "cell_type": "code",
   "execution_count": 13,
   "metadata": {},
   "outputs": [],
   "source": [
    "# Fit CNN with Adam optimizer and 100 batches\n",
    "model.compile(keras.optimizers.Adam(lr=1e-5), loss=keras.losses.binary_crossentropy, metrics=['accuracy'])"
   ]
  },
  {
   "cell_type": "code",
   "execution_count": 14,
   "metadata": {},
   "outputs": [
    {
     "name": "stdout",
     "output_type": "stream",
     "text": [
      "Train on 37800 samples, validate on 4200 samples\n",
      "Epoch 1/10\n",
      "37800/37800 [==============================] - 41s 1ms/step - loss: 0.2767 - acc: 0.9012 - val_loss: 0.2015 - val_acc: 0.9121\n",
      "Epoch 2/10\n",
      "37800/37800 [==============================] - 41s 1ms/step - loss: 0.1353 - acc: 0.9482 - val_loss: 0.0939 - val_acc: 0.9700\n",
      "Epoch 3/10\n",
      "37800/37800 [==============================] - 43s 1ms/step - loss: 0.0755 - acc: 0.9764 - val_loss: 0.0644 - val_acc: 0.9799\n",
      "Epoch 4/10\n",
      "37800/37800 [==============================] - 46s 1ms/step - loss: 0.0563 - acc: 0.9824 - val_loss: 0.0520 - val_acc: 0.9835\n",
      "Epoch 5/10\n",
      "37800/37800 [==============================] - 42s 1ms/step - loss: 0.0469 - acc: 0.9851 - val_loss: 0.0450 - val_acc: 0.9856\n",
      "Epoch 6/10\n",
      "37800/37800 [==============================] - 42s 1ms/step - loss: 0.0411 - acc: 0.9867 - val_loss: 0.0401 - val_acc: 0.9872\n",
      "Epoch 7/10\n",
      "37800/37800 [==============================] - 41s 1ms/step - loss: 0.0369 - acc: 0.9881 - val_loss: 0.0363 - val_acc: 0.9882\n",
      "Epoch 8/10\n",
      "37800/37800 [==============================] - 46s 1ms/step - loss: 0.0337 - acc: 0.9891 - val_loss: 0.0332 - val_acc: 0.9892\n",
      "Epoch 9/10\n",
      "37800/37800 [==============================] - 47s 1ms/step - loss: 0.0311 - acc: 0.9899 - val_loss: 0.0308 - val_acc: 0.9900\n",
      "Epoch 10/10\n",
      "37800/37800 [==============================] - 43s 1ms/step - loss: 0.0288 - acc: 0.9907 - val_loss: 0.0286 - val_acc: 0.9906\n"
     ]
    },
    {
     "data": {
      "image/png": "[encoded data removed]",
      "text/plain": [
       "<Figure size 504x432 with 1 Axes>"
      ]
     },
     "metadata": {},
     "output_type": "display_data"
    },
    {
     "data": {
      "image/png": "[encoded data removed]",
      "text/plain": [
       "<Figure size 504x432 with 1 Axes>"
      ]
     },
     "metadata": {},
     "output_type": "display_data"
    }
   ],
   "source": [
    "# Fit and evaluate model\n",
    "fit_evaluate_cnn(100)"
   ]
  },
  {
   "cell_type": "code",
   "execution_count": null,
   "metadata": {},
   "outputs": [],
   "source": []
  }
 ],
 "metadata": {
  "kernelspec": {
   "display_name": "Python 3",
   "language": "python",
   "name": "python3"
  },
  "language_info": {
   "codemirror_mode": {
    "name": "ipython",
    "version": 3
   },
   "file_extension": ".py",
   "mimetype": "text/x-python",
   "name": "python",
   "nbconvert_exporter": "python",
   "pygments_lexer": "ipython3",
   "version": "3.7.0"
  }
 },
 "nbformat": 4,
 "nbformat_minor": 2
}
